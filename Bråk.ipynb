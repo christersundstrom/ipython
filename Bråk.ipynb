{
 "cells": [
  {
   "cell_type": "markdown",
   "metadata": {},
   "source": [
    "# Addition av bråk\n",
    "Redan gemensam nämnare:  \n",
    "\n",
    "$$\\frac{2}{7} + \\frac{3}{7} = \\frac{2+3}{7} = \\frac{5}{7}$$\n",
    "  \n",
    "  \n",
    "Gör om till gemensam nämnare:  \n",
    "\n",
    "$$\\frac{2}{3} + \\frac{3}{4} = \\frac{2}{3}\\cdot\\frac{4}{4} + \\frac{3}{4}\\cdot\\frac{3}{3} = \\frac{2\\cdot4}{3\\cdot4} + \\frac{3\\cdot3}{4\\cdot3} = \\frac{8}{12} + \\frac{9}{12} = \\frac{8+9}{12} = \\frac{17}{12} $$\n",
    "\n"
   ]
  },
  {
   "cell_type": "markdown",
   "metadata": {},
   "source": [
    "# Multiplikation av bråk  \n",
    "Täljare och nämnare multipliceras för sig:  \n",
    "\n",
    "$$\\frac34\\cdot\\frac56 = \\frac{3\\cdot5}{4\\cdot6} = \\frac{15}{24}$$\n",
    "\n",
    "Heltal multipliceras i täljaren:  \n",
    "\n",
    "$$3\\cdot\\frac56\\cdot4 = \\frac{3\\cdot5\\cdot4}{6} = \\frac{60}{4}$$ \n",
    "\n",
    "* Varför?\n",
    "\n",
    "$$3\\cdot\\frac56\\cdot4 = \\frac31\\cdot\\frac56\\cdot\\frac41 = \\frac{3\\cdot5\\cdot4}{1\\cdot6\\cdot1} = \\frac{3\\cdot5\\cdot4}{6}$$ \n",
    "\n",
    "Observerva skillnaden:  \n",
    "* Tre gånger fyra femtedelar: $3\\cdot\\frac45 = \\frac{3\\cdot4}{5} = \\frac{12}{5} = 2\\frac25$  \n",
    "    \n",
    "    \n",
    "* Tre hela och fyra femtedelar:  $3\\frac45 = 3 + \\frac45 = \\frac31 + \\frac45 = \\frac{3\\cdot5}{5}+\\frac45 = \\frac{15}{5}+\\frac45 = \\frac{15+4}{5} =\\frac{19}{5} = 3\\frac45 $  \n",
    "  \n"
   ]
  },
  {
   "cell_type": "markdown",
   "metadata": {},
   "source": []
  },
  {
   "cell_type": "code",
   "execution_count": null,
   "metadata": {
    "collapsed": true
   },
   "outputs": [],
   "source": []
  }
 ],
 "metadata": {
  "kernelspec": {
   "display_name": "Python 3",
   "language": "python",
   "name": "python3"
  },
  "language_info": {
   "codemirror_mode": {
    "name": "ipython",
    "version": 3
   },
   "file_extension": ".py",
   "mimetype": "text/x-python",
   "name": "python",
   "nbconvert_exporter": "python",
   "pygments_lexer": "ipython3",
   "version": "3.4.3"
  }
 },
 "nbformat": 4,
 "nbformat_minor": 0
}

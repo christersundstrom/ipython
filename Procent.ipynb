{
 "cells": [
  {
   "cell_type": "markdown",
   "metadata": {},
   "source": [
    "# Procent / promille / ppm\n",
    "procent = hundradelar  \n",
    "\n",
    "$$1\\% = \\frac{1}{100} = 0.01 = 10^{-2} $$  \n",
    "\n",
    "$$50\\% = \\frac{50}{100} = \\frac{1}{2} = 0.5$$  \n",
    "\n",
    "$$100\\% = \\frac{100}{100} = \\frac{1}{1} = 1$$  \n",
    "\n",
    "\n",
    "promille = &permil; = tusendel\n",
    "\n",
    "$$1\\,promille = \\frac{1}{1000} = 0.001 = 10^{-3}$$\n",
    "\n",
    "ppm = miljondel  \n",
    "\n",
    "$$1\\,ppm = \\frac{1}{1000000} = 0.000001 = 10^{-6}$$  \n",
    "\n"
   ]
  },
  {
   "cell_type": "markdown",
   "metadata": {
    "collapsed": true
   },
   "source": [
    "# Förändringsfaktor\n",
    "\n",
    "$$ förändringsfaktor = \\frac{nya\\,värdet}{gamla\\,värdet}$$\n",
    "  \n",
    "  \n",
    "Priset ökade från 100 kr till 115 kr:  \n",
    "* Förändringsfaktorn blir $\\frac{115}{100} = 1.15 = 100\\% + 15\\% = 115\\%$\n",
    "* Priset ökade med 15%.\n",
    "* Det nya priset blev 115% av det gamla\n",
    "\n",
    "  \n",
    "  \n",
    "Priset minskade från 100 kr till 80 kr:\n",
    "* Förändringsfaktorn blir $\\frac{80}{100} = 0.8 = 100\\% - 20\\% = 80\\%$\n",
    "* Priset minskade med 20%\n",
    "* Det nya priset blev 80% av det gamla \n",
    "  \n",
    "Priset ökar med 20 kr från 80 kr:\n",
    "* Förändringsfaktorn blir $\\frac{80+20}{80} = \\frac{100}{80} = 1.25 = 100\\% + 25\\% = 125\\%$\n",
    "* Priset ökar med 25%\n",
    "* Det nya priset blir 125% av det gamla \n"
   ]
  },
  {
   "cell_type": "code",
   "execution_count": null,
   "metadata": {
    "collapsed": true
   },
   "outputs": [],
   "source": []
  }
 ],
 "metadata": {
  "kernelspec": {
   "display_name": "Python 3",
   "language": "python",
   "name": "python3"
  },
  "language_info": {
   "codemirror_mode": {
    "name": "ipython",
    "version": 3
   },
   "file_extension": ".py",
   "mimetype": "text/x-python",
   "name": "python",
   "nbconvert_exporter": "python",
   "pygments_lexer": "ipython3",
   "version": "3.4.3"
  }
 },
 "nbformat": 4,
 "nbformat_minor": 0
}

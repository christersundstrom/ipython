{
 "cells": [
  {
   "cell_type": "markdown",
   "metadata": {},
   "source": [
    "# Procent\n",
    "procent = hundradelar  \n",
    "\n",
    "$$1\\% = \\frac{1}{100} = 0.01 = = 10^{-2} $$  \n",
    "\n",
    "$$50\\% = \\frac{50}{100} = \\frac{1}{2} = 0.5$$  \n",
    "\n",
    "$$100\\% = \\frac{100}{100} = \\frac{1}{1} = 1$$  \n",
    "\n",
    "\n",
    "promille = tusendelar\n",
    "\n",
    "1 &permil; $ = \\frac{1}{1000} = 0.001 = 10^{-3}$  \n",
    "\n",
    "\n",
    "\n",
    "ppm = miljondel  \n",
    "\n",
    "$$1 ppm = \\frac{1}{1000000} = 0.000001 = 10^{-6}$$  \n",
    "\n"
   ]
  },
  {
   "cell_type": "code",
   "execution_count": null,
   "metadata": {
    "collapsed": true
   },
   "outputs": [],
   "source": []
  }
 ],
 "metadata": {
  "kernelspec": {
   "display_name": "Python 3",
   "language": "python",
   "name": "python3"
  },
  "language_info": {
   "codemirror_mode": {
    "name": "ipython",
    "version": 3
   },
   "file_extension": ".py",
   "mimetype": "text/x-python",
   "name": "python",
   "nbconvert_exporter": "python",
   "pygments_lexer": "ipython3",
   "version": "3.4.3"
  }
 },
 "nbformat": 4,
 "nbformat_minor": 0
}
